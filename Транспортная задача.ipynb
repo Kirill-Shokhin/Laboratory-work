{
 "cells": [
  {
   "cell_type": "markdown",
   "metadata": {},
   "source": [
    "# Транспортная задача"
   ]
  },
  {
   "cell_type": "markdown",
   "metadata": {},
   "source": [
    "  Пункты назначения  /<br>  Пункты отправления  | 40 | 60 | 40 | 50 | 50 \n",
    "  ------------- |  -------------| -------------| -------------|-------------|-------------:\n",
    "  **80**  | 6 | 4 | 3 | 4 | 2 \n",
    "  **60**  | 3 | 6 | 4 | 9 | 2\n",
    "  **100**  | 3 | 1 | 2 | 2 | 6 "
   ]
  },
  {
   "cell_type": "markdown",
   "metadata": {},
   "source": [
    "### Выполним задания на python \n",
    "Преимуществом данного подхода является универсальность. \n",
    "Используя любую другую исходную матрицу, за считанные секунды получим верный результат.\n",
    " "
   ]
  },
  {
   "cell_type": "code",
   "execution_count": 1,
   "metadata": {},
   "outputs": [],
   "source": [
    "# Загрузим необходимые библиотеки\n",
    "import numpy as np\n",
    "from scipy.optimize import linprog\n",
    "import warnings\n",
    "warnings.filterwarnings('ignore')"
   ]
  },
  {
   "cell_type": "code",
   "execution_count": 2,
   "metadata": {},
   "outputs": [],
   "source": [
    "# Запишем данные в массивы\n",
    "a = np.array([80, 60, 100])\n",
    "b = np.array([40, 60, 40, 50, 50])\n",
    "\n",
    "D = np.array([[6, 4, 3, 4, 2],\n",
    "              [3, 6, 4, 9, 2],\n",
    "              [3, 1, 2, 2, 6]])"
   ]
  },
  {
   "cell_type": "markdown",
   "metadata": {},
   "source": [
    "#### Реализуем метод минимального элемента:"
   ]
  },
  {
   "cell_type": "code",
   "execution_count": 3,
   "metadata": {
    "scrolled": false
   },
   "outputs": [],
   "source": [
    "# Необходима функция нахождения индексов минимального элемента матрицы\n",
    "def ij(c_min):\n",
    "    c = np.inf\n",
    "    for i in range(c_min.shape[0]):\n",
    "        for j in range(c_min.shape[1]):\n",
    "            if (c_min[i, j] !=0) and (c_min[i, j]<c):\n",
    "                c = c_min[i, j]\n",
    "                i_, j_ = i, j\n",
    "    return i_, j_\n",
    "\n",
    "# Функция минимального элемента\n",
    "def M_min(a_, b_, c_, print_ = False):\n",
    "    a = np.copy(a_)\n",
    "    b = np.copy(b_)\n",
    "    c = np.copy(c_)\n",
    "    \n",
    "    # Проверяем условие замкнутости: если не замкнута - меняем соотвествующие векторы и матрицу трансп. расходов\n",
    "    if a.sum() > b.sum():\n",
    "        b = np.hstack((b, [a.sum() - b.sum()]))\n",
    "        c = np.hstack((c, np.zeros(len(a)).reshape(-1, 1)))\n",
    "    elif a.sum() < b.sum():\n",
    "        a = np.hstack((a, [b.sum() - a.sum()]))\n",
    "        c = np.vstack((c, np.zeros(len(b))))\n",
    "        \n",
    "    m = len(a)\n",
    "    n = len(b)\n",
    "    x = np.zeros((m, n), dtype=int) # создаем матрицу для x и заполняем нулями\n",
    "    funk = 0\n",
    "    while True:\n",
    "        c_min = np.zeros((m,n))\n",
    "        for i in range(m):\n",
    "            for j in range(n):\n",
    "                c_min[i, j] = (c[i, j]*min(a[i], b[j])) # составляем матрицу суммарных расходов\n",
    "        i, j = ij(c_min) # определяем индексы минимального элемента составленной матрицы суммарных расходов\n",
    "        x_ij = int(min(a[i], b[j]))\n",
    "        x[i, j] = x_ij # добавляем элемент x_ij в матрицу x\n",
    "        funk += int(c_min[i, j]) # добавляем x_ij в итоговую функцию\n",
    "        a[i] -= x_ij #\n",
    "        b[j] -= x_ij # обновляем векторы a и b\n",
    "        if print_:\n",
    "            print('c_min:')\n",
    "            print(c_min.astype(int))\n",
    "            print('a: ', a)\n",
    "            print('b: ', b)\n",
    "            print()\n",
    "        if len(c_min[c_min>0])==1: # повторяем до сходимости метода\n",
    "            break\n",
    "    return x, funk # возращаем матрицу x и целевую функцию"
   ]
  },
  {
   "cell_type": "markdown",
   "metadata": {},
   "source": [
    "Один раз выведем на экран поэтапный процесс расчета, чтобы убедится в корректности работы алгоритма:"
   ]
  },
  {
   "cell_type": "code",
   "execution_count": 4,
   "metadata": {},
   "outputs": [
    {
     "name": "stdout",
     "output_type": "stream",
     "text": [
      "c_min:\n",
      "[[240 240 120 200 100]\n",
      " [120 360 160 450 100]\n",
      " [120  60  80 100 300]]\n",
      "a:  [80 60 40]\n",
      "b:  [40  0 40 50 50]\n",
      "\n",
      "c_min:\n",
      "[[240   0 120 200 100]\n",
      " [120   0 160 450 100]\n",
      " [120   0  80  80 240]]\n",
      "a:  [80 60  0]\n",
      "b:  [40  0  0 50 50]\n",
      "\n",
      "c_min:\n",
      "[[240   0   0 200 100]\n",
      " [120   0   0 450 100]\n",
      " [  0   0   0   0   0]]\n",
      "a:  [30 60  0]\n",
      "b:  [40  0  0 50  0]\n",
      "\n",
      "c_min:\n",
      "[[180   0   0 120   0]\n",
      " [120   0   0 450   0]\n",
      " [  0   0   0   0   0]]\n",
      "a:  [ 0 60  0]\n",
      "b:  [40  0  0 20  0]\n",
      "\n",
      "c_min:\n",
      "[[  0   0   0   0   0]\n",
      " [120   0   0 180   0]\n",
      " [  0   0   0   0   0]]\n",
      "a:  [ 0 20  0]\n",
      "b:  [ 0  0  0 20  0]\n",
      "\n",
      "c_min:\n",
      "[[  0   0   0   0   0]\n",
      " [  0   0   0 180   0]\n",
      " [  0   0   0   0   0]]\n",
      "a:  [0 0 0]\n",
      "b:  [0 0 0 0 0]\n",
      "\n",
      "x: \n",
      "[[ 0  0  0 30 50]\n",
      " [40  0  0 20  0]\n",
      " [ 0 60 40  0  0]]\n",
      "Целевая функция:  660\n"
     ]
    }
   ],
   "source": [
    "x, funk = M_min(a, b, D, print_ = True)\n",
    "print('x: ')\n",
    "print(x)\n",
    "print('Целевая функция: ', funk)"
   ]
  },
  {
   "cell_type": "markdown",
   "metadata": {},
   "source": [
    "#### Метод северо-западного угла:"
   ]
  },
  {
   "cell_type": "code",
   "execution_count": 5,
   "metadata": {},
   "outputs": [],
   "source": [
    "def sev_zap(a_, b_, c_):\n",
    "    a = np.copy(a_)\n",
    "    b = np.copy(b_)\n",
    "    c = np.copy(c_)\n",
    "    \n",
    "    # Проверяем условие замкнутости:\n",
    "    if a.sum() > b.sum():\n",
    "        b = np.hstack((b, [a.sum() - b.sum()]))\n",
    "        c = np.hstack((c, np.zeros(len(a)).reshape(-1, 1)))\n",
    "    elif a.sum() < b.sum():\n",
    "        a = np.hstack((a, [b.sum() - a.sum()]))\n",
    "        c = np.vstack((c, np.zeros(len(b))))\n",
    "        \n",
    "    m = len(a)\n",
    "    n = len(b)\n",
    "    i = 0\n",
    "    j = 0\n",
    "    funk = 0\n",
    "    x = np.zeros((m, n), dtype=int)\n",
    "    while (i<m) and (j<n): # повторяем цикл до сходимости метода\n",
    "        x_ij = min(a[i], b[j]) # проверяем минимальность a_i и b_j\n",
    "        funk += c[i, j]*min(a[i], b[j]) # записываем в итоговую функцию элемент трат\n",
    "        a[i] -= x_ij #\n",
    "        b[j] -= x_ij # обновляем векторы a и b\n",
    "        x[i, j] = x_ij # добавляем элемент x_ij в матрицу x\n",
    "    \n",
    "        if a[i]>b[j]: # делаем сдвиги при выполнении условий\n",
    "            j += 1\n",
    "        elif a[i]<b[j]:\n",
    "            i += 1\n",
    "        else:\n",
    "            i += 1\n",
    "            j += 1\n",
    "    return x, funk # возращаем матрицу x и целевую функцию"
   ]
  },
  {
   "cell_type": "markdown",
   "metadata": {},
   "source": [
    "#### Метод потенциалов:"
   ]
  },
  {
   "cell_type": "code",
   "execution_count": 6,
   "metadata": {},
   "outputs": [],
   "source": [
    "# Для метода потенциалов потребуется матрица дельт\n",
    "# На вход она получает x - матрицу одного из опорных методов\n",
    "def delta(a, b, c, x): \n",
    "        # Проверяем условие замкнутости:\n",
    "    if a.sum() > b.sum():\n",
    "        b = np.hstack((b, [a.sum() - b.sum()]))\n",
    "        c = np.hstack((c, np.zeros(len(a)).reshape(-1, 1)))\n",
    "    elif a.sum() < b.sum():\n",
    "        a = np.hstack((a, [b.sum() - a.sum()]))\n",
    "        c = np.vstack((c, np.zeros(len(b))))\n",
    "    \n",
    "    m = len(a)\n",
    "    n = len(b)\n",
    "    \n",
    "    u = np.zeros(m)\n",
    "    v = np.zeros(n)\n",
    "\n",
    "    for i in range(m):\n",
    "        for j in range(n):\n",
    "            if x[i, j] != 0: # если элемент матрицы x не равен 0, расчитываем для данных индексов векторы u и v\n",
    "                if v[j] != 0:\n",
    "                    u[i] = c[i, j]-v[j]\n",
    "                else:\n",
    "                    v[j] = c[i, j]-u[i]\n",
    "\n",
    "    delta = np.zeros((m, n))\n",
    "    for i in range(m):\n",
    "        for j in range(n):\n",
    "            delta[i, j] = u[i] + v[j] - c[i, j] # расчитываем элемент дельта матрицы\n",
    "    return delta"
   ]
  },
  {
   "cell_type": "code",
   "execution_count": 7,
   "metadata": {},
   "outputs": [],
   "source": [
    "# Функция возвращает матрицу системы ограничений\n",
    "def prepare(a, b):\n",
    "    m = len(a)\n",
    "    n = len(b)\n",
    "    h = np.diag(np.ones(n))\n",
    "    v = np.zeros((m, n))\n",
    "    v[0] = 1\n",
    "    for i in range(1, m):\n",
    "        h = np.hstack((h, np.diag(np.ones(n))))\n",
    "        k = np.zeros((m, n))\n",
    "        k[i]=1\n",
    "        v = np.hstack((v, k))\n",
    "    return np.vstack((h, v)).astype(int), np.hstack((b,a))\n",
    "\n",
    "# Метод потенциалов\n",
    "def potenz(a_, b_, c_):\n",
    "    a = np.copy(a_)\n",
    "    b = np.copy(b_)\n",
    "    c = np.copy(c_)\n",
    "    # Проверяем условие замкнутости:\n",
    "    if a.sum() > b.sum():\n",
    "        b = np.hstack((b, [a.sum() - b.sum()]))\n",
    "        c = np.hstack((c, np.zeros(len(a)).reshape(-1, 1)))\n",
    "    elif a.sum() < b.sum():\n",
    "        a = np.hstack((a, [b.sum() - a.sum()]))\n",
    "        c = np.vstack((c, np.zeros(len(b))))\n",
    "        \n",
    "    m = len(a)\n",
    "    n = len(b)\n",
    "    A_eq, b_eq = prepare(a, b)\n",
    "    res = linprog(c.reshape(1, -1), A_eq=A_eq, b_eq=b_eq, bounds=(0, None), method='simplex')\n",
    "    return res.x.astype(int).reshape(m, n), res.fun.astype(int) # возращаем матрицу x и целевую функцию"
   ]
  },
  {
   "cell_type": "markdown",
   "metadata": {},
   "source": [
    "Посмотрим на матрицу системы ограничений для нашего случая:"
   ]
  },
  {
   "cell_type": "code",
   "execution_count": 8,
   "metadata": {},
   "outputs": [
    {
     "name": "stdout",
     "output_type": "stream",
     "text": [
      "Матрица системы ограничений: \n",
      " [[1 0 0 0 0 1 0 0 0 0 1 0 0 0 0]\n",
      " [0 1 0 0 0 0 1 0 0 0 0 1 0 0 0]\n",
      " [0 0 1 0 0 0 0 1 0 0 0 0 1 0 0]\n",
      " [0 0 0 1 0 0 0 0 1 0 0 0 0 1 0]\n",
      " [0 0 0 0 1 0 0 0 0 1 0 0 0 0 1]\n",
      " [1 1 1 1 1 0 0 0 0 0 0 0 0 0 0]\n",
      " [0 0 0 0 0 1 1 1 1 1 0 0 0 0 0]\n",
      " [0 0 0 0 0 0 0 0 0 0 1 1 1 1 1]]\n"
     ]
    }
   ],
   "source": [
    "print('Матрица системы ограничений: \\n', prepare(a, b)[0])"
   ]
  },
  {
   "cell_type": "markdown",
   "metadata": {},
   "source": [
    "#### Теперь все функции готовы, осталось применить"
   ]
  },
  {
   "cell_type": "markdown",
   "metadata": {},
   "source": [
    "Задача сбалансирована:\n",
    "$$\\sum a = \\sum b = 240$$"
   ]
  },
  {
   "cell_type": "markdown",
   "metadata": {},
   "source": [
    "$$c_{ij} = \\gamma d_{ij}$$\n",
    "\n",
    "где $\\gamma$ - цена перевозки на 1км. Так как $\\gamma = const$, на минимизацию целевой функции не влияет."
   ]
  },
  {
   "cell_type": "code",
   "execution_count": 9,
   "metadata": {},
   "outputs": [
    {
     "name": "stdout",
     "output_type": "stream",
     "text": [
      "Метод минимального элемента: \n",
      " [[ 0  0  0 30 50]\n",
      " [40  0  0 20  0]\n",
      " [ 0 60 40  0  0]]\n",
      "Целевая функция:  660\n",
      "\n",
      "Дельта матрица для М - метода: \n",
      " [[-3. -3. -1.  0.  0.]\n",
      " [ 5.  0.  3.  0.  5.]\n",
      " [ 0.  0.  0.  2. -4.]]\n"
     ]
    }
   ],
   "source": [
    "x, funk = M_min(a, b, D)\n",
    "print('Метод минимального элемента: \\n', x)\n",
    "print('Целевая функция: ', funk)\n",
    "print()\n",
    "print('Дельта матрица для М - метода: \\n', delta(a, b, D, x))"
   ]
  },
  {
   "cell_type": "code",
   "execution_count": 10,
   "metadata": {},
   "outputs": [
    {
     "name": "stdout",
     "output_type": "stream",
     "text": [
      "Метод северо-западного угла: \n",
      " [[40 40  0  0  0]\n",
      " [ 0 20 40  0  0]\n",
      " [ 0  0  0 50 50]]\n",
      "Целевая функция:  1080\n",
      "\n",
      "Дельта матрица для метода северо-западного угла: \n",
      " [[ 0.  0. -1. -2.  4.]\n",
      " [ 5.  0.  0. -5.  6.]\n",
      " [ 3.  3.  0.  0.  0.]]\n"
     ]
    }
   ],
   "source": [
    "x1, funk1 = sev_zap(a, b, D)\n",
    "print('Метод северо-западного угла: \\n', x1)\n",
    "print('Целевая функция: ', funk1)\n",
    "print()\n",
    "print('Дельта матрица для метода северо-западного угла: \\n', delta(a, b, D, x1))"
   ]
  },
  {
   "cell_type": "markdown",
   "metadata": {},
   "source": [
    "Оба метода не оптимальны, так как дельта-матрицы содержат положительные элементы"
   ]
  },
  {
   "cell_type": "markdown",
   "metadata": {},
   "source": [
    "Так же по целевой функции видно, что метод северо-западного угла гораздо хуже справляется со своей задачей, чем М-метод, что было понятно еще на этапе построения, ведь алгоритм первого не использует матрицу расходов при построении, только при вычислении общих расходов. У нас как раз в матрице $D$ на главных диагоналях значения больше, чем по краям, потому и получается такая большая разница в методах."
   ]
  },
  {
   "cell_type": "code",
   "execution_count": 11,
   "metadata": {},
   "outputs": [
    {
     "name": "stdout",
     "output_type": "stream",
     "text": [
      "Метод потенциалов: \n",
      " [[ 0  0 40 10 30]\n",
      " [40  0  0  0 20]\n",
      " [ 0 60  0 40  0]]\n",
      "Целевая функция:  520\n",
      "\n",
      "Дельта матрица для метода потенциалов: \n",
      " [[-3. -3.  0.  0.  0.]\n",
      " [ 0. -5. -1. -5.  0.]\n",
      " [-2. -2. -1.  0. -6.]]\n"
     ]
    }
   ],
   "source": [
    "x2, funk2 = potenz(a, b, D)\n",
    "print('Метод потенциалов: \\n', x2)\n",
    "print('Целевая функция: ', funk2)\n",
    "print()\n",
    "print('Дельта матрица для метода потенциалов: \\n', delta(a, b, D, x2))"
   ]
  },
  {
   "cell_type": "markdown",
   "metadata": {},
   "source": [
    "Метод потенциалов дал оптимальный результат"
   ]
  },
  {
   "cell_type": "markdown",
   "metadata": {},
   "source": [
    "Построим граф оптимального плана перевозок:"
   ]
  },
  {
   "attachments": {
    "savedocx-2.png": {
     "image/png": "[encoded data removed]"
    }
   },
   "cell_type": "markdown",
   "metadata": {},
   "source": [
    "![savedocx-2.png](attachment:savedocx-2.png)"
   ]
  },
  {
   "cell_type": "markdown",
   "metadata": {},
   "source": [
    "#### Теперь будем решать несбалансированную задачу\n",
    "Уменьшим $b_5$ на 10:"
   ]
  },
  {
   "cell_type": "code",
   "execution_count": 12,
   "metadata": {},
   "outputs": [
    {
     "data": {
      "text/plain": [
       "array([40, 60, 40, 50, 40])"
      ]
     },
     "execution_count": 12,
     "metadata": {},
     "output_type": "execute_result"
    }
   ],
   "source": [
    "b[4] -= 10\n",
    "b"
   ]
  },
  {
   "cell_type": "markdown",
   "metadata": {},
   "source": [
    "$$\\sum a =240 \\not= \\sum b = 230$$"
   ]
  },
  {
   "cell_type": "code",
   "execution_count": 13,
   "metadata": {},
   "outputs": [
    {
     "name": "stdout",
     "output_type": "stream",
     "text": [
      "Метод северо-западного угла: \n",
      " [[40 40  0  0  0  0]\n",
      " [ 0 20 40  0  0  0]\n",
      " [ 0  0  0 50 40 10]]\n",
      "Целевая функция:  1020.0\n",
      "\n",
      "Дельта матрица для метода северо-западного угла: \n",
      " [[ 0.  0. -1. -2.  4.  0.]\n",
      " [ 5.  0.  0. -5.  6.  2.]\n",
      " [ 3.  3.  0.  0.  0.  0.]]\n"
     ]
    }
   ],
   "source": [
    "x1, funk1 = sev_zap(a, b, D)\n",
    "print('Метод северо-западного угла: \\n', x1)\n",
    "print('Целевая функция: ', funk1)\n",
    "print()\n",
    "print('Дельта матрица для метода северо-западного угла: \\n', delta(a, b, D, x1))"
   ]
  },
  {
   "cell_type": "code",
   "execution_count": 14,
   "metadata": {},
   "outputs": [
    {
     "name": "stdout",
     "output_type": "stream",
     "text": [
      "Метод потенциалов: \n",
      " [[ 0  0 40 10 20 10]\n",
      " [40  0  0  0 20  0]\n",
      " [ 0 60  0 40  0  0]]\n",
      "Целевая функция:  500\n",
      "\n",
      "Дельта матрица для метода потенциалов: \n",
      " [[-3. -3.  0.  0.  0.  0.]\n",
      " [ 0. -5. -1. -5.  0.  0.]\n",
      " [-2. -2. -1.  0. -6. -2.]]\n"
     ]
    }
   ],
   "source": [
    "x2, funk2 = potenz(a, b, D)\n",
    "print('Метод потенциалов: \\n', x2)\n",
    "print('Целевая функция: ', funk2)\n",
    "print()\n",
    "print('Дельта матрица для метода потенциалов: \\n', delta(a, b, D, x2))"
   ]
  },
  {
   "cell_type": "markdown",
   "metadata": {},
   "source": [
    "Теперь увеличим  $b_5$  на 10 относительно изначального:"
   ]
  },
  {
   "cell_type": "code",
   "execution_count": 15,
   "metadata": {},
   "outputs": [
    {
     "data": {
      "text/plain": [
       "array([40, 60, 40, 50, 60])"
      ]
     },
     "execution_count": 15,
     "metadata": {},
     "output_type": "execute_result"
    }
   ],
   "source": [
    "b[4] += 20\n",
    "b"
   ]
  },
  {
   "cell_type": "markdown",
   "metadata": {},
   "source": [
    "$$\\sum a =240 \\not= \\sum b = 250$$"
   ]
  },
  {
   "cell_type": "code",
   "execution_count": 16,
   "metadata": {},
   "outputs": [
    {
     "name": "stdout",
     "output_type": "stream",
     "text": [
      "Метод северо-западного угла: \n",
      " [[40 40  0  0  0]\n",
      " [ 0 20 40  0  0]\n",
      " [ 0  0  0 50 50]\n",
      " [ 0  0  0  0 10]]\n",
      "Целевая функция:  1080.0\n",
      "\n",
      "Дельта матрица для метода северо-западного угла: \n",
      " [[ 0.  0. -1. -2.  4.]\n",
      " [ 5.  0.  0. -5.  6.]\n",
      " [ 3.  3.  0.  0.  0.]\n",
      " [ 0. -2. -4. -4.  0.]]\n"
     ]
    }
   ],
   "source": [
    "x1, funk1 = sev_zap(a, b, D)\n",
    "print('Метод северо-западного угла: \\n', x1)\n",
    "print('Целевая функция: ', funk1)\n",
    "print()\n",
    "print('Дельта матрица для метода северо-западного угла: \\n', delta(a, b, D, x1))"
   ]
  },
  {
   "cell_type": "code",
   "execution_count": 17,
   "metadata": {},
   "outputs": [
    {
     "name": "stdout",
     "output_type": "stream",
     "text": [
      "Метод потенциалов: \n",
      " [[ 0  0 40  0 40]\n",
      " [40  0  0  0 20]\n",
      " [ 0 60  0 40  0]\n",
      " [ 0  0  0 10  0]]\n",
      "Целевая функция:  500\n",
      "\n",
      "Дельта матрица для метода потенциалов: \n",
      " [[-3. -3.  0. -2.  0.]\n",
      " [ 0. -5. -1. -7.  0.]\n",
      " [ 0.  0.  1.  0. -4.]\n",
      " [ 1. -1.  1.  0.  0.]]\n"
     ]
    }
   ],
   "source": [
    "x2, funk2 = potenz(a, b, D)\n",
    "print('Метод потенциалов: \\n', x2)\n",
    "print('Целевая функция: ', funk2)\n",
    "print()\n",
    "print('Дельта матрица для метода потенциалов: \\n', delta(a, b, D, x2))"
   ]
  }
 ],
 "metadata": {
  "kernelspec": {
   "display_name": "Python 3",
   "language": "python",
   "name": "python3"
  },
  "language_info": {
   "codemirror_mode": {
    "name": "ipython",
    "version": 3
   },
   "file_extension": ".py",
   "mimetype": "text/x-python",
   "name": "python",
   "nbconvert_exporter": "python",
   "pygments_lexer": "ipython3",
   "version": "3.8.5"
  }
 },
 "nbformat": 4,
 "nbformat_minor": 4
}
